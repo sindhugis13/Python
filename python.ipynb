{
  "nbformat": 4,
  "nbformat_minor": 0,
  "metadata": {
    "colab": {
      "provenance": [],
      "gpuType": "T4"
    },
    "kernelspec": {
      "name": "python3",
      "display_name": "Python 3"
    },
    "language_info": {
      "name": "python"
    },
    "accelerator": "GPU"
  },
  "cells": [
    {
      "cell_type": "markdown",
      "source": [
        "#Python\n"
      ],
      "metadata": {
        "id": "DxOMEZdce5Lp"
      }
    },
    {
      "cell_type": "markdown",
      "source": [
        "1.  What is Python, and why is it popular?\n",
        "\n",
        "  ->Python is a high-level, general-purpose programming language that is widely popular due to its simple, readable syntax, versatility across various applications like data analysis, web development, machine learning, and automation.\n",
        "\n",
        "2.  What is an interpreter in Python?\n",
        "\n",
        "  ->A Python interpreter is a program that reads and executes Python code. It translates Python code into bytecode, which is then executed by the Python Virtual Machine (PVM- Python Virtual Machine).\n",
        "\n",
        "3.  What are pre-defined keywords in Python?\n",
        "\n",
        "  ->Here is a list of the Python keywords.  Enter any keyword to get more help.\n",
        "   False,class,from,or,None,continue,global,pass,True,def,if,raise,and,del,import,return,as,elif,in,try,assert,else,is,while,async,except,lambda,with,await,finally,nonlocal,yield,break,for,not.\n",
        "\n",
        "4.  Can Keywords be used as variable name?\n",
        "\n",
        "  ->cannot be used as identifiers variable names.\n",
        "\n",
        "5.  What is mutability in python?\n",
        "\n",
        "  ->Mutable is when something is changeable or has the ability to change. In Python, 'mutable' is the ability of objects to change their values. These are often the objects that store a collection of data.\n",
        "\n",
        "6.  why are lists mutable but tuples are immutable?\n",
        "\n",
        "  ->Tuples and lists are the same in every way except two: tuples use parentheses instead of square brackets, and the items in tuples cannot be modified (but the items in lists can be modified). We often call lists mutable (meaning they can be changed) and tuples immutable (meaning they cannot be changed).\n",
        "\n",
        "7.  what is the difference between == and is operators in python?\n",
        "\n",
        "  ->The '==' is known as the equality operator. The 'is' is known as the      \n",
        "  identity operator. The == operator helps us compare the equality of objects. The is operator helps us check whether different variables point towards a similar object in the memory.\n",
        "\n",
        "8.  what are logical operators in python?\n",
        "\n",
        "  ->logical operators are used to combine multiple conditions together and evaluate them as a single Boolean expression.  (and, or, not).\n",
        "\n",
        "9.  what is type casting in python?\n",
        "\n",
        "  ->Type casting in python is a process that converts a variable's data type into another data type.\n",
        "\n",
        "10. what are the difference between implicit and explicit type casting\t?\n",
        "\n",
        "  ->Explicit type conversion in programming is done manually by the programmer, while implicit conversion is handled automatically by the compiler.\n",
        "\n",
        "11. what is the purpose of conditional statements in python?\n",
        "\n",
        "  ->They allow you to make decisions based on the values of variables or the result of comparisons.\n",
        "\n",
        "12. how does the elif statement work?\n",
        "\n",
        "  ->The “elif” keyword in Python, stands for “else if”. It can be used in conditional statements to check for multiple conditions. For example, if the first condition is false, it moves on to the next “elif” statement to check if that condition is true.\n",
        "\n",
        "13. what is the difference between for and while loop?\n",
        "\n",
        "  ->While loop is also entry controlled loop. The for loop is used when the number of iterations is known. The while loop is used when the number of iterations is unknown.\n",
        "\n",
        "14. Describe a scenario where a while loop is more suitable than a for loop?\n",
        "\n",
        "  ->In contrast to a 'for' loop, which is generally used when the number of iterations is known beforehand, a 'while' loop is ideal for situations where the number of iterations is not predetermined and depends on some dynamic condition.\n",
        "\t       \n"
      ],
      "metadata": {
        "id": "Fa4sGTfxfYPp"
      }
    },
    {
      "cell_type": "markdown",
      "source": [
        "#Practical Questions"
      ],
      "metadata": {
        "id": "4JVo0SlaksEH"
      }
    },
    {
      "cell_type": "code",
      "source": [
        "print(\"Hello,world!\")"
      ],
      "metadata": {
        "colab": {
          "base_uri": "https://localhost:8080/"
        },
        "id": "lvgWQBMRk5gA",
        "outputId": "33afb355-2571-4f77-d432-1a21ace2c717"
      },
      "execution_count": null,
      "outputs": [
        {
          "output_type": "stream",
          "name": "stdout",
          "text": [
            "Hello,world!\n"
          ]
        }
      ]
    },
    {
      "cell_type": "code",
      "source": [
        "user_name = input(\"Enter your name: \")\n",
        "user_age = input(\"Enter your age: \" )"
      ],
      "metadata": {
        "id": "yuWcBAvRzGZ8"
      },
      "execution_count": null,
      "outputs": []
    },
    {
      "cell_type": "code",
      "source": [
        "print(f\"name=sindhuja\")\n",
        "print(f\"age=32\")"
      ],
      "metadata": {
        "id": "uDOGgQZg058M",
        "colab": {
          "base_uri": "https://localhost:8080/"
        },
        "outputId": "ec292312-1e4e-4c1c-bc2f-573bed5d90f3"
      },
      "execution_count": null,
      "outputs": [
        {
          "output_type": "stream",
          "name": "stdout",
          "text": [
            "name=sindhuja\n",
            "age=32\n"
          ]
        }
      ]
    },
    {
      "cell_type": "code",
      "source": [
        "\n",
        "help('keywords')\n"
      ],
      "metadata": {
        "id": "Ltczx_6RztOT",
        "colab": {
          "base_uri": "https://localhost:8080/"
        },
        "outputId": "9fcace83-d3c2-4d7d-c441-0468368eeb93"
      },
      "execution_count": null,
      "outputs": [
        {
          "output_type": "stream",
          "name": "stdout",
          "text": [
            "\n",
            "Here is a list of the Python keywords.  Enter any keyword to get more help.\n",
            "\n",
            "False               class               from                or\n",
            "None                continue            global              pass\n",
            "True                def                 if                  raise\n",
            "and                 del                 import              return\n",
            "as                  elif                in                  try\n",
            "assert              else                is                  while\n",
            "async               except              lambda              with\n",
            "await               finally             nonlocal            yield\n",
            "break               for                 not                 \n",
            "\n"
          ]
        }
      ]
    },
    {
      "cell_type": "code",
      "source": [
        "import keyword\n",
        "\n",
        "s = 'if'\n",
        "\n",
        "# Check if it's a Python keyword\n",
        "if keyword.iskeyword(s):\n",
        "    print(f\"'{s}' is a Python keyword.\")\n",
        "else:\n",
        "    print(f\"'{s}' is not a Python keyword.\")"
      ],
      "metadata": {
        "id": "I2I3Fxw6zv1U",
        "colab": {
          "base_uri": "https://localhost:8080/"
        },
        "outputId": "60c9dad2-b5e9-4fe9-eb0b-372caf91da0e"
      },
      "execution_count": 1,
      "outputs": [
        {
          "output_type": "stream",
          "name": "stdout",
          "text": [
            "'if' is a Python keyword.\n"
          ]
        }
      ]
    },
    {
      "cell_type": "code",
      "source": [
        "#list tuple\n",
        "list=[2,6,9,4,3]\n",
        "print(len(list))"
      ],
      "metadata": {
        "id": "yb88BRjh0isj",
        "colab": {
          "base_uri": "https://localhost:8080/"
        },
        "outputId": "6420dc23-7583-4e8b-c5d8-59f2b151abfc"
      },
      "execution_count": 3,
      "outputs": [
        {
          "output_type": "stream",
          "name": "stdout",
          "text": [
            "5\n"
          ]
        }
      ]
    },
    {
      "cell_type": "code",
      "source": [
        "#element\n",
        "languages=[\"python\",\"java\",\"javascript\",\"sql\",\"htp\"]\n",
        "print(languages[-3])"
      ],
      "metadata": {
        "colab": {
          "base_uri": "https://localhost:8080/"
        },
        "id": "k9MFtmjzqxzA",
        "outputId": "7e39c5f8-06ca-43f6-a97d-e6aac861e592"
      },
      "execution_count": 4,
      "outputs": [
        {
          "output_type": "stream",
          "name": "stdout",
          "text": [
            "javascript\n"
          ]
        }
      ]
    },
    {
      "cell_type": "code",
      "source": [
        "#number\n",
        "number=(43,567,12,-7,3,-8)\n",
        "print(number[-2])"
      ],
      "metadata": {
        "colab": {
          "base_uri": "https://localhost:8080/"
        },
        "id": "lKy6rFK4q_OY",
        "outputId": "493555d2-63f5-4f0e-b912-86952a942c99"
      },
      "execution_count": 5,
      "outputs": [
        {
          "output_type": "stream",
          "name": "stdout",
          "text": [
            "3\n"
          ]
        }
      ]
    },
    {
      "cell_type": "code",
      "source": [
        "#mutability and imutability\n",
        "list_cont = [1, 2, 5, 4.8,8-1, True, \"dheeran,sindhu,mallika,vino.loki\"]\n",
        "list_cont"
      ],
      "metadata": {
        "colab": {
          "base_uri": "https://localhost:8080/"
        },
        "id": "9oP5aaSRruoI",
        "outputId": "e5eb5dd0-8078-4b9f-f58e-58350238f937"
      },
      "execution_count": 9,
      "outputs": [
        {
          "output_type": "execute_result",
          "data": {
            "text/plain": [
              "[1, 2, 5, 4.8, 7, True, 'dheeran,sindhu,mallika,vino.loki']"
            ]
          },
          "metadata": {},
          "execution_count": 9
        }
      ]
    },
    {
      "cell_type": "code",
      "source": [
        "A=\"sindhu\"\n",
        "B=\"Dheeran\"\n",
        "C=\"mallika\"\n",
        "D=\"vino\"\n",
        "C=\"murugan\"\n",
        "E=\"nani\"\n",
        "print(D,C,A)"
      ],
      "metadata": {
        "colab": {
          "base_uri": "https://localhost:8080/"
        },
        "id": "yaz3NUVWrIWo",
        "outputId": "2d9987e3-4e79-4d0b-9718-7bcf4e678d49"
      },
      "execution_count": 6,
      "outputs": [
        {
          "output_type": "stream",
          "name": "stdout",
          "text": [
            "vino murugan sindhu\n"
          ]
        }
      ]
    },
    {
      "cell_type": "code",
      "source": [
        "#airthmetic operator(+,-,*,%,/)\n",
        "a=30\n",
        "b=10\n",
        "c=a+b\n",
        "print(c)\n",
        "c=a-b\n",
        "print(c)\n",
        "c=a*b\n",
        "print(c)\n",
        "c=a/b\n",
        "print(c)\n",
        "c=a%b\n",
        "print(c)"
      ],
      "metadata": {
        "colab": {
          "base_uri": "https://localhost:8080/"
        },
        "id": "XAe6UIzKqcqp",
        "outputId": "e89254f5-416b-46df-d0df-9cfeeacabe5d"
      },
      "execution_count": 2,
      "outputs": [
        {
          "output_type": "stream",
          "name": "stdout",
          "text": [
            "40\n",
            "20\n",
            "300\n",
            "3.0\n",
            "0\n"
          ]
        }
      ]
    },
    {
      "cell_type": "code",
      "source": [
        "#logical operator\n",
        "a=16\n",
        "b=24\n",
        "print((a<5)and(a>=8))\n",
        "print((a<3)or(a<7))\n",
        "print(not(a>8))"
      ],
      "metadata": {
        "colab": {
          "base_uri": "https://localhost:8080/"
        },
        "id": "_mR2GU-HnHsb",
        "outputId": "e490e975-0d44-4147-d123-a343f32f1942"
      },
      "execution_count": 1,
      "outputs": [
        {
          "output_type": "stream",
          "name": "stdout",
          "text": [
            "False\n",
            "False\n",
            "False\n"
          ]
        }
      ]
    },
    {
      "cell_type": "code",
      "source": [
        "#string to interger\n",
        "str=\"556\"\n",
        "num=int(str)\n",
        "print=(num)\n",
        "print=(type(num))\n",
        "print=(type(str))\n",
        "#string to integer\n",
        "a = \"556\"\n",
        "print(type(a))\n",
        "print(type(int(a)))"
      ],
      "metadata": {
        "colab": {
          "base_uri": "https://localhost:8080/",
          "height": 35
        },
        "id": "IFL__-tNs5B5",
        "outputId": "b3a2a9ce-937d-4437-d52e-990df2c8ac6c"
      },
      "execution_count": 31,
      "outputs": [
        {
          "output_type": "execute_result",
          "data": {
            "text/plain": [
              "\"<class 'int'>\""
            ],
            "application/vnd.google.colaboratory.intrinsic+json": {
              "type": "string"
            }
          },
          "metadata": {},
          "execution_count": 31
        }
      ]
    },
    {
      "cell_type": "code",
      "source": [
        "#float\n",
        "a=2.5\n",
        "type(a)\n",
        "b=856\n",
        "type(b)\n",
        "c=\"dheeran\"\n",
        "type(c)\n",
        "d=True\n",
        "type(d)"
      ],
      "metadata": {
        "colab": {
          "base_uri": "https://localhost:8080/"
        },
        "id": "2I917Rexy3BV",
        "outputId": "2506adc8-2c43-4946-b8eb-e8481b622f34"
      },
      "execution_count": 24,
      "outputs": [
        {
          "output_type": "execute_result",
          "data": {
            "text/plain": [
              "bool"
            ]
          },
          "metadata": {},
          "execution_count": 24
        }
      ]
    },
    {
      "cell_type": "code",
      "source": [
        "a=2.5\n",
        "type(a)"
      ],
      "metadata": {
        "colab": {
          "base_uri": "https://localhost:8080/"
        },
        "id": "oJX53zgFzNhX",
        "outputId": "692d35b4-7e23-4f96-829b-152055c2d038"
      },
      "execution_count": 25,
      "outputs": [
        {
          "output_type": "execute_result",
          "data": {
            "text/plain": [
              "float"
            ]
          },
          "metadata": {},
          "execution_count": 25
        }
      ]
    },
    {
      "cell_type": "code",
      "source": [
        "b=856\n",
        "type(b)"
      ],
      "metadata": {
        "colab": {
          "base_uri": "https://localhost:8080/"
        },
        "id": "H8xtS1hfzmQe",
        "outputId": "e58c3e6e-fdc8-49ce-c656-b7100d044511"
      },
      "execution_count": 29,
      "outputs": [
        {
          "output_type": "execute_result",
          "data": {
            "text/plain": [
              "int"
            ]
          },
          "metadata": {},
          "execution_count": 29
        }
      ]
    },
    {
      "cell_type": "code",
      "source": [
        "c=\"dheeran\"\n",
        "type(c)"
      ],
      "metadata": {
        "colab": {
          "base_uri": "https://localhost:8080/"
        },
        "id": "IKP7jllJz2Ed",
        "outputId": "0ce8606e-e83a-4058-9bf1-f34e1dff142e"
      },
      "execution_count": 28,
      "outputs": [
        {
          "output_type": "execute_result",
          "data": {
            "text/plain": [
              "str"
            ]
          },
          "metadata": {},
          "execution_count": 28
        }
      ]
    },
    {
      "cell_type": "code",
      "source": [
        "#list element\n",
        "A=\" sindhu\"\n",
        "B=\" Dheeran\"\n",
        "C=\" mallika\"\n",
        "D=\" vino\"\n",
        "C=\" murugan\"\n",
        "E=\" nani\"\n",
        "C+D+E"
      ],
      "metadata": {
        "colab": {
          "base_uri": "https://localhost:8080/",
          "height": 35
        },
        "id": "97nlq6TD0vKO",
        "outputId": "76053da2-e644-4110-db2c-c43ae66b8cbe"
      },
      "execution_count": 36,
      "outputs": [
        {
          "output_type": "execute_result",
          "data": {
            "text/plain": [
              "' murugan vino nani'"
            ],
            "application/vnd.google.colaboratory.intrinsic+json": {
              "type": "string"
            }
          },
          "metadata": {},
          "execution_count": 36
        }
      ]
    },
    {
      "cell_type": "code",
      "source": [
        "num = float(input(\"Enter a number: \"))\n",
        "if num >0:\n",
        "    print(\"Positive\")\n",
        "elif num < 0:\n",
        "    print(\"negative\")\n",
        "else:\n",
        "    print(\"zero\")"
      ],
      "metadata": {
        "id": "bwgKH-TQ3f18"
      },
      "execution_count": null,
      "outputs": []
    },
    {
      "cell_type": "code",
      "source": [
        "list(range(0, 10)) #it will give value from 1 to 10"
      ],
      "metadata": {
        "colab": {
          "base_uri": "https://localhost:8080/"
        },
        "id": "LnzX0uoU3xwl",
        "outputId": "478a9d59-0e8e-4076-8fd6-efaf77f45df5"
      },
      "execution_count": 7,
      "outputs": [
        {
          "output_type": "execute_result",
          "data": {
            "text/plain": [
              "[0, 1, 2, 3, 4, 5, 6, 7, 8, 9]"
            ]
          },
          "metadata": {},
          "execution_count": 7
        }
      ]
    },
    {
      "cell_type": "code",
      "source": [
        "number = [1, 2, 3, 4, 5, 6, 7, 8, 9,10]\n",
        "for num in number:\n",
        "    if (num == 3) or (num == 7):\n",
        "        continue\n",
        "    print(num)"
      ],
      "metadata": {
        "colab": {
          "base_uri": "https://localhost:8080/"
        },
        "id": "oWoLPwN25Q7M",
        "outputId": "6bbf4a85-ebca-4b0a-c2ca-936151f864fd"
      },
      "execution_count": 5,
      "outputs": [
        {
          "output_type": "stream",
          "name": "stdout",
          "text": [
            "1\n",
            "2\n",
            "4\n",
            "5\n",
            "6\n",
            "8\n",
            "9\n",
            "10\n"
          ]
        }
      ]
    },
    {
      "cell_type": "code",
      "source": [
        "print(\"even number between 1 and 50 are\")\n",
        "for i in range(1,50):\n",
        "  if(i%2==0):\n",
        "    print(i)"
      ],
      "metadata": {
        "colab": {
          "base_uri": "https://localhost:8080/"
        },
        "id": "bpgw94DDAHe6",
        "outputId": "a308431f-d3d1-465f-b698-49b0334be28f"
      },
      "execution_count": 4,
      "outputs": [
        {
          "output_type": "stream",
          "name": "stdout",
          "text": [
            "even number between 1 and 50 are\n",
            "2\n",
            "4\n",
            "6\n",
            "8\n",
            "10\n",
            "12\n",
            "14\n",
            "16\n",
            "18\n",
            "20\n",
            "22\n",
            "24\n",
            "26\n",
            "28\n",
            "30\n",
            "32\n",
            "34\n",
            "36\n",
            "38\n",
            "40\n",
            "42\n",
            "44\n",
            "46\n",
            "48\n"
          ]
        }
      ]
    },
    {
      "cell_type": "code",
      "source": [
        "#reverse string using while loop\n",
        "string='python is good to use!'\n",
        "rev-str==\"\"\n",
        "length=len(string)-1\n",
        "while length>=0:\n",
        "  rev-str==\"string\"[length]\n",
        "  length-=1\n",
        "  print(rev-str)"
      ],
      "metadata": {
        "colab": {
          "base_uri": "https://localhost:8080/",
          "height": 211
        },
        "id": "QjxL7jVgCTBK",
        "outputId": "45fa95db-9c9c-4d38-e28d-5c0816c8f6a3"
      },
      "execution_count": 20,
      "outputs": [
        {
          "output_type": "error",
          "ename": "NameError",
          "evalue": "name 'rev' is not defined",
          "traceback": [
            "\u001b[0;31m---------------------------------------------------------------------------\u001b[0m",
            "\u001b[0;31mNameError\u001b[0m                                 Traceback (most recent call last)",
            "\u001b[0;32m<ipython-input-20-1e7ac2e86d69>\u001b[0m in \u001b[0;36m<cell line: 0>\u001b[0;34m()\u001b[0m\n\u001b[1;32m      1\u001b[0m \u001b[0;31m#reverse string using while loop\u001b[0m\u001b[0;34m\u001b[0m\u001b[0;34m\u001b[0m\u001b[0m\n\u001b[1;32m      2\u001b[0m \u001b[0mstring\u001b[0m\u001b[0;34m=\u001b[0m\u001b[0;34m'python is good to use!'\u001b[0m\u001b[0;34m\u001b[0m\u001b[0;34m\u001b[0m\u001b[0m\n\u001b[0;32m----> 3\u001b[0;31m \u001b[0mrev\u001b[0m\u001b[0;34m-\u001b[0m\u001b[0mstr\u001b[0m\u001b[0;34m==\u001b[0m\u001b[0;34m\"\"\u001b[0m\u001b[0;34m\u001b[0m\u001b[0;34m\u001b[0m\u001b[0m\n\u001b[0m\u001b[1;32m      4\u001b[0m \u001b[0mlength\u001b[0m\u001b[0;34m=\u001b[0m\u001b[0mlen\u001b[0m\u001b[0;34m(\u001b[0m\u001b[0mstring\u001b[0m\u001b[0;34m)\u001b[0m\u001b[0;34m-\u001b[0m\u001b[0;36m1\u001b[0m\u001b[0;34m\u001b[0m\u001b[0;34m\u001b[0m\u001b[0m\n\u001b[1;32m      5\u001b[0m \u001b[0;32mwhile\u001b[0m \u001b[0mlength\u001b[0m\u001b[0;34m>=\u001b[0m\u001b[0;36m0\u001b[0m\u001b[0;34m:\u001b[0m\u001b[0;34m\u001b[0m\u001b[0;34m\u001b[0m\u001b[0m\n",
            "\u001b[0;31mNameError\u001b[0m: name 'rev' is not defined"
          ]
        }
      ]
    },
    {
      "cell_type": "code",
      "source": [
        "def reverse_string(s)\n",
        "reverse_string=''\n",
        "for ch in s:\n",
        "reverse_string= ch+ reverse_string\n",
        "return reverse_string\n",
        "print(reverse_string('python is good to use!'))"
      ],
      "metadata": {
        "id": "UvUW9mfCubvM"
      },
      "execution_count": null,
      "outputs": []
    },
    {
      "cell_type": "code",
      "source": [
        "def factorial(n):\n",
        "    if n == 0:\n",
        "        return 1\n",
        "    else:\n",
        "        return n * factorial(n - 1)"
      ],
      "metadata": {
        "id": "BdRfUjS7EgRR"
      },
      "execution_count": 2,
      "outputs": []
    },
    {
      "cell_type": "code",
      "source": [
        "def factorial(n):\n",
        "  result=1\n",
        "  counter=1\n",
        "  while counter<=n:\n",
        "    result*=counter\n",
        "    counter+=1\n",
        "  retrun result\n",
        "  result-while=factorial-with-while-loop(5)\n",
        "  print(result-while)"
      ],
      "metadata": {
        "colab": {
          "base_uri": "https://localhost:8080/",
          "height": 106
        },
        "id": "x6dRL7BGp5gy",
        "outputId": "86ec7464-2ad0-45d9-c9e4-beffe46ae8be"
      },
      "execution_count": 19,
      "outputs": [
        {
          "output_type": "error",
          "ename": "SyntaxError",
          "evalue": "invalid syntax (<ipython-input-19-f75386752c7e>, line 7)",
          "traceback": [
            "\u001b[0;36m  File \u001b[0;32m\"<ipython-input-19-f75386752c7e>\"\u001b[0;36m, line \u001b[0;32m7\u001b[0m\n\u001b[0;31m    retrun result\u001b[0m\n\u001b[0m           ^\u001b[0m\n\u001b[0;31mSyntaxError\u001b[0m\u001b[0;31m:\u001b[0m invalid syntax\n"
          ]
        }
      ]
    }
  ]
}